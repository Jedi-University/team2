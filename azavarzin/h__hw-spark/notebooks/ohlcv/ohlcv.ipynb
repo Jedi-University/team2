{
 "cells": [
  {
   "cell_type": "code",
   "execution_count": 4,
   "id": "d499b004",
   "metadata": {},
   "outputs": [],
   "source": [
    "import pyspark\n",
    "from pyspark.sql import SparkSession\n",
    "\n",
    "spark = SparkSession.builder.appName(\"ohlcv\").getOrCreate()\n",
    "sc = spark.sparkContext"
   ]
  },
  {
   "cell_type": "code",
   "execution_count": 44,
   "id": "fa8a5c44",
   "metadata": {},
   "outputs": [],
   "source": [
    "import requests\n",
    "\n",
    "coin = \"ethereum\"\n",
    "period = \"365\"\n",
    "url = f\"https://api.coingecko.com/api/v3/coins/{coin}/ohlc?vs_currency=usd&days={period}\"\n",
    "caption = [\"time\", \"open\", \"high\", \"low\", \"close\"]\n",
    "\n",
    "data = requests.get(url).json()\n",
    "\n",
    "file_name = f\"{coin}_{period}.csv\" \n",
    "with open(file_name, \"w\") as file:\n",
    "    line = \",\".join(caption) + \"\\n\"\n",
    "    file.write(line)\n",
    "    for record in data:\n",
    "        line = \",\".join(map(str, record)) + \"\\n\"\n",
    "        file.write(line)"
   ]
  },
  {
   "cell_type": "code",
   "execution_count": 45,
   "id": "3a11113d",
   "metadata": {},
   "outputs": [
    {
     "name": "stdout",
     "output_type": "stream",
     "text": [
      "root\n",
      " |-- time: long (nullable = true)\n",
      " |-- open: double (nullable = true)\n",
      " |-- high: double (nullable = true)\n",
      " |-- low: double (nullable = true)\n",
      " |-- close: double (nullable = true)\n",
      "\n"
     ]
    }
   ],
   "source": [
    "df = spark.read.option(\"header\", \"true\").csv(file_name, inferSchema=True)\n",
    "df.printSchema()"
   ]
  },
  {
   "cell_type": "code",
   "execution_count": 46,
   "id": "481dee74",
   "metadata": {},
   "outputs": [
    {
     "name": "stdout",
     "output_type": "stream",
     "text": [
      "+-------------+-------+-------+-------+-------+\n",
      "|         time|   open|   high|    low|  close|\n",
      "+-------------+-------+-------+-------+-------+\n",
      "|1607299200000| 571.19| 601.97| 571.19| 601.97|\n",
      "|1607644800000| 592.39| 592.39| 554.33| 560.45|\n",
      "|1607990400000| 545.98| 590.32| 545.98| 585.54|\n",
      "|1608336000000| 589.07| 654.42| 589.07| 654.42|\n",
      "|1608681600000| 659.32| 659.32| 610.43| 634.98|\n",
      "|1609027200000| 587.96| 636.74| 587.96| 636.74|\n",
      "|1609372800000| 689.66| 752.86| 689.66| 752.86|\n",
      "|1609632000000| 738.62|  777.7| 730.15|  777.7|\n",
      "|1609977600000|  967.0|1208.58|  967.0|1208.58|\n",
      "|1610323200000|1229.47|1282.98|1223.73|1267.73|\n",
      "|1610668800000|1092.91|1216.91|1045.41|1216.91|\n",
      "|1611014400000|1171.86|1255.98|1171.86|1255.98|\n",
      "|1611360000000|1383.48|1385.85|1122.91|1236.68|\n",
      "|1611705600000|1231.18|1392.54|1231.18|1355.23|\n",
      "|1612051200000|1253.14|1380.28|1253.14|1372.43|\n",
      "|1612310400000|1317.05|1514.23|1317.05|1514.23|\n",
      "|1612656000000| 1661.0|1724.86| 1587.8|1683.94|\n",
      "|1613001600000|1608.64|1769.05|1608.64|1739.16|\n",
      "|1613347200000|1782.51| 1841.2|1782.51|1804.98|\n",
      "|1613692800000|1775.76|1938.57|1775.76|1938.57|\n",
      "+-------------+-------+-------+-------+-------+\n",
      "only showing top 20 rows\n",
      "\n"
     ]
    }
   ],
   "source": [
    "df.show()"
   ]
  },
  {
   "cell_type": "code",
   "execution_count": 133,
   "id": "ffd8b93f",
   "metadata": {},
   "outputs": [
    {
     "name": "stderr",
     "output_type": "stream",
     "text": [
      "21/12/04 11:22:26 WARN WindowExec: No Partition Defined for Window operation! Moving all data to a single partition, this can cause serious performance degradation.\n",
      "21/12/04 11:22:26 WARN WindowExec: No Partition Defined for Window operation! Moving all data to a single partition, this can cause serious performance degradation.\n"
     ]
    },
    {
     "name": "stdout",
     "output_type": "stream",
     "text": [
      "+-------------+-------+-------+-------+-------+-------+-----+------------------+\n",
      "|         time|   open|   high|    low|  close|row_num|group|               sma|\n",
      "+-------------+-------+-------+-------+-------+-------+-----+------------------+\n",
      "|1607299200000| 571.19| 601.97| 571.19| 601.97|      1|    0|1311.5003448275866|\n",
      "|1607644800000| 592.39| 592.39| 554.33| 560.45|      2|    0|1311.5003448275866|\n",
      "|1607990400000| 545.98| 590.32| 545.98| 585.54|      3|    0|1311.5003448275866|\n",
      "|1608336000000| 589.07| 654.42| 589.07| 654.42|      4|    0|1311.5003448275866|\n",
      "|1608681600000| 659.32| 659.32| 610.43| 634.98|      5|    0|1311.5003448275866|\n",
      "|1609027200000| 587.96| 636.74| 587.96| 636.74|      6|    0|1311.5003448275866|\n",
      "|1609372800000| 689.66| 752.86| 689.66| 752.86|      7|    0|1311.5003448275866|\n",
      "|1609632000000| 738.62|  777.7| 730.15|  777.7|      8|    0|1311.5003448275866|\n",
      "|1609977600000|  967.0|1208.58|  967.0|1208.58|      9|    0|1311.5003448275866|\n",
      "|1610323200000|1229.47|1282.98|1223.73|1267.73|     10|    0|1311.5003448275866|\n",
      "|1610668800000|1092.91|1216.91|1045.41|1216.91|     11|    0|1311.5003448275866|\n",
      "|1611014400000|1171.86|1255.98|1171.86|1255.98|     12|    0|1311.5003448275866|\n",
      "|1611360000000|1383.48|1385.85|1122.91|1236.68|     13|    0|1311.5003448275866|\n",
      "|1611705600000|1231.18|1392.54|1231.18|1355.23|     14|    0|1311.5003448275866|\n",
      "|1612051200000|1253.14|1380.28|1253.14|1372.43|     15|    0|1311.5003448275866|\n",
      "|1612310400000|1317.05|1514.23|1317.05|1514.23|     16|    0|1311.5003448275866|\n",
      "|1612656000000| 1661.0|1724.86| 1587.8|1683.94|     17|    0|1311.5003448275866|\n",
      "|1613001600000|1608.64|1769.05|1608.64|1739.16|     18|    0|1311.5003448275866|\n",
      "|1613347200000|1782.51| 1841.2|1782.51|1804.98|     19|    0|1311.5003448275866|\n",
      "|1613692800000|1775.76|1938.57|1775.76|1938.57|     20|    0|1311.5003448275866|\n",
      "+-------------+-------+-------+-------+-------+-------+-----+------------------+\n",
      "only showing top 20 rows\n",
      "\n"
     ]
    }
   ],
   "source": [
    "from pyspark.sql.functions import lit, avg, row_number, udf\n",
    "from pyspark.sql.window import Window\n",
    "from pyspark.sql.types import IntegerType\n",
    "\n",
    "\n",
    "@udf(returnType=IntegerType())\n",
    "def define_group(value, sma_num):\n",
    "    return value // sma_num\n",
    "\n",
    "\n",
    "sma_num = 30\n",
    "\n",
    "order_by_time = Window.orderBy(\"time\")\n",
    "partition_by_group = Window.partitionBy(\"group\")\n",
    "\n",
    "# нумерум строки\n",
    "df = df.withColumn(\"row_num\", row_number().over(order_by_time))\n",
    "# разбиваем на группы по sma_num (30)\n",
    "df = df.withColumn(\"group\", define_group(df[\"row_num\"], lit(sma_num)))\n",
    "# считаем sma для каждой группы\n",
    "df = df.withColumn(\"sma\", avg(\"close\").over(partition_by_group))\n",
    "\n",
    "df.show()"
   ]
  },
  {
   "cell_type": "code",
   "execution_count": 137,
   "id": "b151e799",
   "metadata": {},
   "outputs": [],
   "source": [
    "columns_to_drop = [\"row_num\", \"group\"]\n",
    "df = df.drop(*columns_to_drop)"
   ]
  },
  {
   "cell_type": "code",
   "execution_count": 141,
   "id": "c3dd4b54",
   "metadata": {},
   "outputs": [
    {
     "name": "stderr",
     "output_type": "stream",
     "text": [
      "21/12/04 11:24:40 WARN WindowExec: No Partition Defined for Window operation! Moving all data to a single partition, this can cause serious performance degradation.\n",
      "21/12/04 11:24:40 WARN WindowExec: No Partition Defined for Window operation! Moving all data to a single partition, this can cause serious performance degradation.\n"
     ]
    },
    {
     "name": "stdout",
     "output_type": "stream",
     "text": [
      "+-------------+-------+-------+-------+-------+------------------+\n",
      "|         time|   open|   high|    low|  close|               sma|\n",
      "+-------------+-------+-------+-------+-------+------------------+\n",
      "|1611705600000|1231.18|1392.54|1231.18|1355.23|1311.5003448275866|\n",
      "|1612051200000|1253.14|1380.28|1253.14|1372.43|1311.5003448275866|\n",
      "|1612310400000|1317.05|1514.23|1317.05|1514.23|1311.5003448275866|\n",
      "|1612656000000| 1661.0|1724.86| 1587.8|1683.94|1311.5003448275866|\n",
      "|1613001600000|1608.64|1769.05|1608.64|1739.16|1311.5003448275866|\n",
      "|1613347200000|1782.51| 1841.2|1782.51|1804.98|1311.5003448275866|\n",
      "|1613692800000|1775.76|1938.57|1775.76|1938.57|1311.5003448275866|\n",
      "|1614038400000|1969.98|1969.98|1788.62|1788.62|1311.5003448275866|\n",
      "|1614384000000|1563.92|1628.39|1450.99|1450.99|1311.5003448275866|\n",
      "|1614470400000|1480.13| 1570.4|1416.66|1497.09|1311.5003448275866|\n",
      "|1615075200000|1579.43|1661.93|1539.05|1661.93|1311.5003448275866|\n",
      "|1615420800000|1727.46|1869.33|1727.46|1802.31|1311.5003448275866|\n",
      "|1615766400000|1826.06|1927.72|1770.94|1866.07|1311.5003448275866|\n",
      "|1616112000000|1791.05|1828.75|1780.16|1780.16|1311.5003448275866|\n",
      "|1616457600000|1817.13|1817.86|1686.89|1686.89|1311.5003448275866|\n",
      "|1616803200000|1673.86|1700.37|1581.63|1700.37|1311.5003448275866|\n",
      "|1619481600000|2364.23|2532.39|2212.84|2532.39| 2507.503666666667|\n",
      "|1619740800000|2647.16| 2757.5|2647.16| 2757.5| 2507.503666666667|\n",
      "|1620000000000| 2776.7| 2953.3| 2776.7| 2953.3| 2507.503666666667|\n",
      "|1620345600000|3439.86|3524.56|3245.66|3495.08| 2507.503666666667|\n",
      "+-------------+-------+-------+-------+-------+------------------+\n",
      "only showing top 20 rows\n",
      "\n"
     ]
    }
   ],
   "source": [
    "result_df = df.filter(df[\"close\"] > df[\"sma\"])\n",
    "result_df.show()"
   ]
  },
  {
   "cell_type": "code",
   "execution_count": 145,
   "id": "add834af",
   "metadata": {},
   "outputs": [
    {
     "name": "stderr",
     "output_type": "stream",
     "text": [
      "21/12/04 11:30:55 WARN WindowExec: No Partition Defined for Window operation! Moving all data to a single partition, this can cause serious performance degradation.\n",
      "21/12/04 11:30:55 WARN WindowExec: No Partition Defined for Window operation! Moving all data to a single partition, this can cause serious performance degradation.\n"
     ]
    }
   ],
   "source": [
    "result_df.drop(\"sma\").write.csv(\"result\")"
   ]
  }
 ],
 "metadata": {
  "kernelspec": {
   "display_name": "Python 3 (ipykernel)",
   "language": "python",
   "name": "python3"
  },
  "language_info": {
   "codemirror_mode": {
    "name": "ipython",
    "version": 3
   },
   "file_extension": ".py",
   "mimetype": "text/x-python",
   "name": "python",
   "nbconvert_exporter": "python",
   "pygments_lexer": "ipython3",
   "version": "3.9.7"
  }
 },
 "nbformat": 4,
 "nbformat_minor": 5
}
