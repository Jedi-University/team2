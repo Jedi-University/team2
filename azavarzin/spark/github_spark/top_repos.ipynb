{
 "cells": [
  {
   "cell_type": "code",
   "execution_count": 1,
   "id": "b6dbb358",
   "metadata": {},
   "outputs": [
    {
     "name": "stderr",
     "output_type": "stream",
     "text": [
      "WARNING: An illegal reflective access operation has occurred\n",
      "WARNING: Illegal reflective access by org.apache.spark.unsafe.Platform (file:/usr/local/spark-3.2.0-bin-hadoop3.2/jars/spark-unsafe_2.12-3.2.0.jar) to constructor java.nio.DirectByteBuffer(long,int)\n",
      "WARNING: Please consider reporting this to the maintainers of org.apache.spark.unsafe.Platform\n",
      "WARNING: Use --illegal-access=warn to enable warnings of further illegal reflective access operations\n",
      "WARNING: All illegal access operations will be denied in a future release\n",
      "Using Spark's default log4j profile: org/apache/spark/log4j-defaults.properties\n",
      "Setting default log level to \"WARN\".\n",
      "To adjust logging level use sc.setLogLevel(newLevel). For SparkR, use setLogLevel(newLevel).\n",
      "21/12/04 17:16:58 WARN NativeCodeLoader: Unable to load native-hadoop library for your platform... using builtin-java classes where applicable\n",
      "21/12/04 17:16:59 WARN Utils: Service 'SparkUI' could not bind on port 4040. Attempting port 4041.\n"
     ]
    }
   ],
   "source": [
    "import pyspark\n",
    "from pyspark.sql import SparkSession\n",
    "\n",
    "spark = SparkSession.builder.appName(\"top\").getOrCreate()\n",
    "sc = spark.sparkContext"
   ]
  },
  {
   "cell_type": "code",
   "execution_count": 73,
   "id": "77b80fa5",
   "metadata": {},
   "outputs": [
    {
     "name": "stdout",
     "output_type": "stream",
     "text": [
      "root\n",
      " |-- avatar_url: string (nullable = true)\n",
      " |-- description: string (nullable = true)\n",
      " |-- events_url: string (nullable = true)\n",
      " |-- hooks_url: string (nullable = true)\n",
      " |-- id: long (nullable = true)\n",
      " |-- issues_url: string (nullable = true)\n",
      " |-- login: string (nullable = true)\n",
      " |-- members_url: string (nullable = true)\n",
      " |-- node_id: string (nullable = true)\n",
      " |-- public_members_url: string (nullable = true)\n",
      " |-- repos_url: string (nullable = true)\n",
      " |-- url: string (nullable = true)\n",
      "\n"
     ]
    }
   ],
   "source": [
    "import requests\n",
    "\n",
    "# insetr access token here\n",
    "token = \"\"\n",
    "headers = {\"Authorization\": f\"token {token}\"}\n",
    "\n",
    "url = \"https://api.github.com/organizations\"\n",
    "orgs_num = 5\n",
    "params = {\"per_page\": orgs_num}\n",
    "\n",
    "response = requests.get(url, params=params, headers=headers)\n",
    "orgs_rdd = sc.parallelize(response.json())\n",
    "orgs_df = spark.createDataFrame(orgs_rdd)\n",
    "orgs_df.printSchema()"
   ]
  },
  {
   "cell_type": "code",
   "execution_count": 114,
   "id": "a1ffcf1e",
   "metadata": {},
   "outputs": [],
   "source": [
    "def mapping_repo(repo: dict) -> dict:\n",
    "    return {\n",
    "        \"id\": repo[\"id\"],\n",
    "        \"org_name\": repo[\"owner\"][\"login\"],\n",
    "        \"repo_name\": repo[\"name\"],\n",
    "        \"stars_count\": repo[\"stargazers_count\"],\n",
    "    }\n",
    "\n",
    "\n",
    "def get_all_repositories_of_organization(url: str) -> list[dict]:\n",
    "    global headers\n",
    "    params = {\"page\": 1}\n",
    "    repos_data: list[dict] = list()\n",
    "    response = requests.get(url, headers=headers).json()\n",
    "    while response:\n",
    "        repos_data.extend(map(mapping_repo, response))\n",
    "        \n",
    "        params[\"page\"] += 1\n",
    "        response = requests.get(url, params=params, headers=headers).json()\n",
    "    \n",
    "    return repos_data"
   ]
  },
  {
   "cell_type": "code",
   "execution_count": 69,
   "id": "49c76fa9",
   "metadata": {},
   "outputs": [
    {
     "name": "stdout",
     "output_type": "stream",
     "text": [
      "Row(repos_url='https://api.github.com/orgs/errfree/repos')\n",
      "https://api.github.com/orgs/errfree/repos\n"
     ]
    }
   ],
   "source": [
    "# sample\n",
    "for row in orgs_df.select(\"repos_url\").collect():\n",
    "    print(row)\n",
    "    print(row[\"repos_url\"])\n",
    "    break"
   ]
  },
  {
   "cell_type": "code",
   "execution_count": 116,
   "id": "be639966",
   "metadata": {},
   "outputs": [
    {
     "name": "stdout",
     "output_type": "stream",
     "text": [
      "root\n",
      " |-- id: long (nullable = true)\n",
      " |-- org_name: string (nullable = true)\n",
      " |-- repo_name: string (nullable = true)\n",
      " |-- stars_count: long (nullable = true)\n",
      "\n"
     ]
    }
   ],
   "source": [
    "repos_data = []\n",
    "for row in orgs_df.select(\"repos_url\").collect():\n",
    "    repos_data.extend(get_all_repositories_of_organization(row[\"repos_url\"]))\n",
    "\n",
    "repos_rdd = sc.parallelize(repos_data)\n",
    "repos_df = spark.createDataFrame(repos_rdd)\n",
    "repos_df.printSchema()"
   ]
  },
  {
   "cell_type": "code",
   "execution_count": 117,
   "id": "4ad94d4c",
   "metadata": {},
   "outputs": [
    {
     "name": "stdout",
     "output_type": "stream",
     "text": [
      "+-------+----------+------------------+-----------+\n",
      "|     id|  org_name|         repo_name|stars_count|\n",
      "+-------+----------+------------------+-----------+\n",
      "| 789949|   errfree|             test1|          1|\n",
      "|2277888|   errfree|              test|          1|\n",
      "|    273|engineyard|             eycap|        117|\n",
      "|  19448|engineyard|           mongrel|         44|\n",
      "|  21933|engineyard|      vertebra-erl|         34|\n",
      "|  22381|engineyard|       vertebra-rb|         59|\n",
      "|  22382|engineyard|           xmpp4em|         13|\n",
      "|  23375|engineyard|      vertebra-gem|         45|\n",
      "|  26548|engineyard|      vertebra-xen|         47|\n",
      "|  39764|engineyard|puppet-daemontools|          6|\n",
      "|  63084|engineyard|          vertebra|        161|\n",
      "|  69864|engineyard|            sequel|          2|\n",
      "|  75517|engineyard|            natter|         76|\n",
      "|  81020|engineyard|      vertebra-ref|         43|\n",
      "|  84100|engineyard|   rails-2.2.2-app|         10|\n",
      "| 116800|engineyard|         loudmouth|         20|\n",
      "| 116801|engineyard|    loudmouth-ruby|          9|\n",
      "| 126848|engineyard|          rack-app|          7|\n",
      "| 133715|engineyard|  ey-cloud-recipes|       1002|\n",
      "| 171199|engineyard|    oauth_provider|          3|\n",
      "+-------+----------+------------------+-----------+\n",
      "only showing top 20 rows\n",
      "\n"
     ]
    }
   ],
   "source": [
    "repos_df.show()"
   ]
  },
  {
   "cell_type": "code",
   "execution_count": 122,
   "id": "9bd712c1",
   "metadata": {},
   "outputs": [
    {
     "name": "stdout",
     "output_type": "stream",
     "text": [
      "+--------+--------------+--------------------+-----------+\n",
      "|      id|      org_name|           repo_name|stars_count|\n",
      "+--------+--------------+--------------------+-----------+\n",
      "|   52287|collectiveidea|         delayed_job|       4667|\n",
      "|     363|collectiveidea|             audited|       2962|\n",
      "|11670330|collectiveidea|          interactor|       2946|\n",
      "|     912|collectiveidea|  awesome_nested_set|       2254|\n",
      "|  133715|    engineyard|    ey-cloud-recipes|       1002|\n",
      "| 2012691|collectiveidea|           json_spec|        916|\n",
      "|12173225|collectiveidea|    interactor-rails|        394|\n",
      "| 1801464|collectiveidea|delayed_job_activ...|        318|\n",
      "|     374|collectiveidea|           graticule|        300|\n",
      "|     376|collectiveidea|              tinder|        259|\n",
      "|42527001|collectiveidea|  inside_the_machine|        258|\n",
      "|  372208|    engineyard|       rails_metrics|        257|\n",
      "|     364|collectiveidea|  acts_as_geocodable|        205|\n",
      "|  889878|collectiveidea| delayed_job_mongoid|        175|\n",
      "|   63084|    engineyard|            vertebra|        161|\n",
      "|  468193|    engineyard|          engineyard|        133|\n",
      "|  337321|    engineyard| rails_dev_directory|        130|\n",
      "|    5310|collectiveidea|action_mailer_opt...|        129|\n",
      "|     273|    engineyard|               eycap|        117|\n",
      "| 1868412|    engineyard|                todo|        111|\n",
      "+--------+--------------+--------------------+-----------+\n",
      "only showing top 20 rows\n",
      "\n"
     ]
    }
   ],
   "source": [
    "sorted_repos_df = repos_df.sort(\"stars_count\", ascending=False)\n",
    "sorted_repos_df.show()"
   ]
  },
  {
   "cell_type": "code",
   "execution_count": 131,
   "id": "384e665e",
   "metadata": {},
   "outputs": [
    {
     "data": {
      "text/plain": [
       "[Row(id=52287, org_name='collectiveidea', repo_name='delayed_job', stars_count=4667),\n",
       " Row(id=363, org_name='collectiveidea', repo_name='audited', stars_count=2962),\n",
       " Row(id=11670330, org_name='collectiveidea', repo_name='interactor', stars_count=2946),\n",
       " Row(id=912, org_name='collectiveidea', repo_name='awesome_nested_set', stars_count=2254),\n",
       " Row(id=133715, org_name='engineyard', repo_name='ey-cloud-recipes', stars_count=1002),\n",
       " Row(id=2012691, org_name='collectiveidea', repo_name='json_spec', stars_count=916),\n",
       " Row(id=12173225, org_name='collectiveidea', repo_name='interactor-rails', stars_count=394),\n",
       " Row(id=1801464, org_name='collectiveidea', repo_name='delayed_job_active_record', stars_count=318),\n",
       " Row(id=374, org_name='collectiveidea', repo_name='graticule', stars_count=300),\n",
       " Row(id=376, org_name='collectiveidea', repo_name='tinder', stars_count=259),\n",
       " Row(id=42527001, org_name='collectiveidea', repo_name='inside_the_machine', stars_count=258),\n",
       " Row(id=372208, org_name='engineyard', repo_name='rails_metrics', stars_count=257),\n",
       " Row(id=364, org_name='collectiveidea', repo_name='acts_as_geocodable', stars_count=205),\n",
       " Row(id=889878, org_name='collectiveidea', repo_name='delayed_job_mongoid', stars_count=175),\n",
       " Row(id=63084, org_name='engineyard', repo_name='vertebra', stars_count=161),\n",
       " Row(id=468193, org_name='engineyard', repo_name='engineyard', stars_count=133),\n",
       " Row(id=337321, org_name='engineyard', repo_name='rails_dev_directory', stars_count=130),\n",
       " Row(id=5310, org_name='collectiveidea', repo_name='action_mailer_optional_tls', stars_count=129),\n",
       " Row(id=273, org_name='engineyard', repo_name='eycap', stars_count=117),\n",
       " Row(id=1868412, org_name='engineyard', repo_name='todo', stars_count=111)]"
      ]
     },
     "execution_count": 131,
     "metadata": {},
     "output_type": "execute_result"
    }
   ],
   "source": [
    "top_num = 20\n",
    "top_repos = sorted_repos_df.take(top_num)\n",
    "top_repos"
   ]
  },
  {
   "cell_type": "code",
   "execution_count": null,
   "id": "99b5d335",
   "metadata": {},
   "outputs": [],
   "source": []
  }
 ],
 "metadata": {
  "kernelspec": {
   "display_name": "Python 3 (ipykernel)",
   "language": "python",
   "name": "python3"
  },
  "language_info": {
   "codemirror_mode": {
    "name": "ipython",
    "version": 3
   },
   "file_extension": ".py",
   "mimetype": "text/x-python",
   "name": "python",
   "nbconvert_exporter": "python",
   "pygments_lexer": "ipython3",
   "version": "3.9.7"
  }
 },
 "nbformat": 4,
 "nbformat_minor": 5
}
